{
 "cells": [
  {
   "cell_type": "code",
   "execution_count": 1,
   "id": "6b66ce0f-de1c-494e-9762-eb7bae11373a",
   "metadata": {
    "tags": []
   },
   "outputs": [
    {
     "name": "stdout",
     "output_type": "stream",
     "text": [
      "Total Cost of Ownership: $1350\n",
      "Total Cost of Management: $3700\n"
     ]
    }
   ],
   "source": [
    "# Two simple Python functions to calculate the Total Cost of Ownership (TCO) and Total Cost of Management (TCM) for a Microsoft Azure CI/CD and DevOps. Please note that these are basic calculators and the actual costs can vary based on various factors such as the specific Azure services used, the region, and the pricing tier.\n",
    "\n",
    "\n",
    "def calculate_tco(azure_service_cost, maintenance_cost, upgrade_cost, downtime_cost):\n",
    "    \"\"\"\n",
    "    Calculate Total Cost of Ownership (TCO)\n",
    "    :param azure_service_cost: The cost of Azure services per month\n",
    "    :param maintenance_cost: The cost of maintaining the services per month\n",
    "    :param upgrade_cost: The cost of upgrading the services per month\n",
    "    :param downtime_cost: The cost due to downtime per month\n",
    "    :return: Total Cost of Ownership\n",
    "    \"\"\"\n",
    "    tco = azure_service_cost + maintenance_cost + upgrade_cost + downtime_cost\n",
    "    return tco\n",
    "\n",
    "def calculate_tcm(staff_cost, training_cost, software_cost):\n",
    "    \"\"\"\n",
    "    Calculate Total Cost of Management (TCM)\n",
    "    :param staff_cost: The cost of staff per month\n",
    "    :param training_cost: The cost of training staff per month\n",
    "    :param software_cost: The cost of software per month\n",
    "    :return: Total Cost of Management\n",
    "    \"\"\"\n",
    "    tcm = staff_cost + training_cost + software_cost\n",
    "    return tcm\n",
    "\n",
    "# Example usage:\n",
    "tco = calculate_tco(azure_service_cost=1000, maintenance_cost=200, upgrade_cost=100, downtime_cost=50)\n",
    "tcm = calculate_tcm(staff_cost=3000, training_cost=500, software_cost=200)\n",
    "\n",
    "print(f\"Total Cost of Ownership: ${tco}\")\n",
    "print(f\"Total Cost of Management: ${tcm}\")\n",
    "\n",
    "\n",
    "#Please replace the cost parameters in the example usage with your actual costs to get the correct TCO and TCM. Also, keep in mind that this is a simplified calculation and may not cover all possible costs associated with Azure CI/CD and DevOps. For a more accurate estimation, you may want to use the Azure Pricing Calculator or consult with a cloud solutions architect.\n"
   ]
  },
  {
   "cell_type": "code",
   "execution_count": null,
   "id": "0ac6a6fc-0d2f-4cff-b916-4051228d40e5",
   "metadata": {},
   "outputs": [],
   "source": []
  }
 ],
 "metadata": {
  "kernelspec": {
   "display_name": "Python 3 (ipykernel)",
   "language": "python",
   "name": "python3"
  },
  "language_info": {
   "codemirror_mode": {
    "name": "ipython",
    "version": 3
   },
   "file_extension": ".py",
   "mimetype": "text/x-python",
   "name": "python",
   "nbconvert_exporter": "python",
   "pygments_lexer": "ipython3",
   "version": "3.11.4"
  }
 },
 "nbformat": 4,
 "nbformat_minor": 5
}
